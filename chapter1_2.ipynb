{
  "cells": [
    {
      "cell_type": "markdown",
      "metadata": {
        "id": "view-in-github",
        "colab_type": "text"
      },
      "source": [
        "<a href=\"https://colab.research.google.com/github/lerlerchan/Practical-Discrete-Mathematics/blob/master/chapter1_2.ipynb\" target=\"_parent\"><img src=\"https://colab.research.google.com/assets/colab-badge.svg\" alt=\"Open In Colab\"/></a>"
      ]
    },
    {
      "cell_type": "markdown",
      "metadata": {
        "id": "HkkBgShcWvl2"
      },
      "source": [
        "# Chapter 1 - Introduction: Key Concepts, Notation, Set Theory, Relations, and Functions\n",
        "\n",
        "This notebook contains code accompanying Chapter 1 Introduction: Key Concepts, Notation, Set Theory, Relations, and Functions in *Practical Discrete Mathematics* by Ryan T. White and Archana Tikayat Ray\n",
        "\n",
        "## Functions and Relations\n",
        "\n",
        "### The `sort()` function"
      ]
    },
    {
      "cell_type": "code",
      "execution_count": 1,
      "metadata": {
        "colab": {
          "base_uri": "https://localhost:8080/"
        },
        "id": "3E3Rdlz8Wvl7",
        "outputId": "edc5838f-437a-43e6-b5c3-ab16a8d8cc97"
      },
      "outputs": [
        {
          "output_type": "stream",
          "name": "stdout",
          "text": [
            "[1, 2, 3, 4, 5, 8, 9, 12]\n",
            "['Brandon', 'Elise', 'Eugene', 'Kumar', 'Wyatt']\n"
          ]
        }
      ],
      "source": [
        "numbers = [3, 1, 4, 12, 8, 5, 2, 9]\n",
        "names = ['Wyatt', 'Brandon', 'Kumar', 'Eugene', 'Elise']\n",
        "\n",
        "# Apply the sort() function to the lists\n",
        "numbers.sort()\n",
        "names.sort()\n",
        "\n",
        "# Display the output\n",
        "print(numbers)\n",
        "print(names)"
      ]
    },
    {
      "cell_type": "markdown",
      "metadata": {
        "id": "cmcI44IjWvmD"
      },
      "source": [
        "### The `shuffle()` function"
      ]
    },
    {
      "cell_type": "code",
      "execution_count": 2,
      "metadata": {
        "colab": {
          "base_uri": "https://localhost:8080/"
        },
        "id": "ka1UyLZ9WvmD",
        "outputId": "25cd5cf7-e49c-48bd-fcf3-9766c306b062"
      },
      "outputs": [
        {
          "output_type": "stream",
          "name": "stdout",
          "text": [
            "[12, 2, 1, 5, 9, 3, 8, 4]\n",
            "[4, 2, 8, 3, 1, 12, 5, 9]\n",
            "[4, 5, 1, 9, 3, 8, 12, 2]\n",
            "[9, 12, 2, 8, 5, 3, 4, 1]\n",
            "[9, 8, 4, 3, 12, 1, 5, 2]\n"
          ]
        }
      ],
      "source": [
        "import random\n",
        "\n",
        "# Set a random seed so the code is reproducible\n",
        "random.seed(1)\n",
        "\n",
        "# Run the random.shuffle() function 5 times and display the outputs\n",
        "for i in range(0,5):\n",
        "    numbers = [3, 1, 4, 12, 8, 5, 2, 9]\n",
        "    random.shuffle(numbers)\n",
        "    print(numbers)"
      ]
    },
    {
      "cell_type": "markdown",
      "source": [
        "this code is about union\n",
        "\n"
      ],
      "metadata": {
        "id": "MHfIWEjpZgia"
      }
    },
    {
      "cell_type": "code",
      "source": [
        "# Creating two sets of numbers\n",
        "set1 = {1, 2, 3, 4, 5}\n",
        "set2 = {4, 5, 6, 7, 8}\n",
        "\n",
        "# Finding the union of the two sets\n",
        "union_set = set1.union(set2)\n",
        "\n",
        "# Printing the result\n",
        "print(\"Set 1:\", set1)\n",
        "print(\"Set 2:\", set2)\n",
        "print(\"Union of Set 1 and Set 2:\", union_set)\n"
      ],
      "metadata": {
        "colab": {
          "base_uri": "https://localhost:8080/"
        },
        "id": "ie9cMrMwY7AL",
        "outputId": "b89cd456-fc7f-4230-935c-88ff1147f0c0"
      },
      "execution_count": null,
      "outputs": [
        {
          "output_type": "stream",
          "name": "stdout",
          "text": [
            "Set 1: {1, 2, 3, 4, 5}\n",
            "Set 2: {4, 5, 6, 7, 8}\n",
            "Union of Set 1 and Set 2: {1, 2, 3, 4, 5, 6, 7, 8}\n"
          ]
        }
      ]
    },
    {
      "cell_type": "markdown",
      "source": [
        "# **Questions1: randomly create 2 set of number, find the common numbers in the 2 sets **"
      ],
      "metadata": {
        "id": "iEDO9lW_ZucZ"
      }
    },
    {
      "cell_type": "code",
      "source": [
        "z"
      ],
      "metadata": {
        "id": "ZevrsaUhaFGc"
      },
      "execution_count": null,
      "outputs": []
    },
    {
      "cell_type": "markdown",
      "source": [
        "# Question2: shuffle the character in your name. For example: Apple Chan. After shuffle: eplepa nhac\n"
      ],
      "metadata": {
        "id": "Urt3bPNvaHJ7"
      }
    },
    {
      "cell_type": "code",
      "source": [],
      "metadata": {
        "id": "7F5OwwBQaYOY"
      },
      "execution_count": null,
      "outputs": []
    },
    {
      "cell_type": "markdown",
      "source": [
        "# Question3:  extract a table from wikipedia https://en.wikipedia.org/wiki/Frieren"
      ],
      "metadata": {
        "id": "8DKfg4CwaYv5"
      }
    },
    {
      "cell_type": "markdown",
      "source": [
        "# Question 4: let user input the name. Example\n",
        "Name: Mikasa\n",
        "Hi Mikasa"
      ],
      "metadata": {
        "id": "Y4KFiwsllljX"
      }
    },
    {
      "cell_type": "code",
      "source": [
        "# This code will prompt the user to enter their name and then greet them\n",
        "\n",
        "# Taking user input\n",
        "user_name = input(\"Enter your name: \")\n",
        "\n",
        "# Displaying the greeting message\n",
        "print(f\"Hello, {user_name}! Welcome to Google Colab.\")\n"
      ],
      "metadata": {
        "id": "szTROuqwl3kD",
        "colab": {
          "base_uri": "https://localhost:8080/",
          "height": 370
        },
        "outputId": "112a0b9a-3d02-4182-9d3d-635740e4c807"
      },
      "execution_count": 5,
      "outputs": [
        {
          "output_type": "error",
          "ename": "KeyboardInterrupt",
          "evalue": "Interrupted by user",
          "traceback": [
            "\u001b[0;31m---------------------------------------------------------------------------\u001b[0m",
            "\u001b[0;31mKeyboardInterrupt\u001b[0m                         Traceback (most recent call last)",
            "\u001b[0;32m<ipython-input-5-342cf3ff80e8>\u001b[0m in \u001b[0;36m<cell line: 4>\u001b[0;34m()\u001b[0m\n\u001b[1;32m      2\u001b[0m \u001b[0;34m\u001b[0m\u001b[0m\n\u001b[1;32m      3\u001b[0m \u001b[0;31m# Taking user input\u001b[0m\u001b[0;34m\u001b[0m\u001b[0;34m\u001b[0m\u001b[0m\n\u001b[0;32m----> 4\u001b[0;31m \u001b[0muser_name\u001b[0m \u001b[0;34m=\u001b[0m \u001b[0minput\u001b[0m\u001b[0;34m(\u001b[0m\u001b[0;34m\"Enter your name: \"\u001b[0m\u001b[0;34m)\u001b[0m\u001b[0;34m\u001b[0m\u001b[0;34m\u001b[0m\u001b[0m\n\u001b[0m\u001b[1;32m      5\u001b[0m \u001b[0;34m\u001b[0m\u001b[0m\n\u001b[1;32m      6\u001b[0m \u001b[0;31m# Displaying the greeting message\u001b[0m\u001b[0;34m\u001b[0m\u001b[0;34m\u001b[0m\u001b[0m\n",
            "\u001b[0;32m/usr/local/lib/python3.10/dist-packages/ipykernel/kernelbase.py\u001b[0m in \u001b[0;36mraw_input\u001b[0;34m(self, prompt)\u001b[0m\n\u001b[1;32m    849\u001b[0m                 \u001b[0;34m\"raw_input was called, but this frontend does not support input requests.\"\u001b[0m\u001b[0;34m\u001b[0m\u001b[0;34m\u001b[0m\u001b[0m\n\u001b[1;32m    850\u001b[0m             )\n\u001b[0;32m--> 851\u001b[0;31m         return self._input_request(str(prompt),\n\u001b[0m\u001b[1;32m    852\u001b[0m             \u001b[0mself\u001b[0m\u001b[0;34m.\u001b[0m\u001b[0m_parent_ident\u001b[0m\u001b[0;34m,\u001b[0m\u001b[0;34m\u001b[0m\u001b[0;34m\u001b[0m\u001b[0m\n\u001b[1;32m    853\u001b[0m             \u001b[0mself\u001b[0m\u001b[0;34m.\u001b[0m\u001b[0m_parent_header\u001b[0m\u001b[0;34m,\u001b[0m\u001b[0;34m\u001b[0m\u001b[0;34m\u001b[0m\u001b[0m\n",
            "\u001b[0;32m/usr/local/lib/python3.10/dist-packages/ipykernel/kernelbase.py\u001b[0m in \u001b[0;36m_input_request\u001b[0;34m(self, prompt, ident, parent, password)\u001b[0m\n\u001b[1;32m    893\u001b[0m             \u001b[0;32mexcept\u001b[0m \u001b[0mKeyboardInterrupt\u001b[0m\u001b[0;34m:\u001b[0m\u001b[0;34m\u001b[0m\u001b[0;34m\u001b[0m\u001b[0m\n\u001b[1;32m    894\u001b[0m                 \u001b[0;31m# re-raise KeyboardInterrupt, to truncate traceback\u001b[0m\u001b[0;34m\u001b[0m\u001b[0;34m\u001b[0m\u001b[0m\n\u001b[0;32m--> 895\u001b[0;31m                 \u001b[0;32mraise\u001b[0m \u001b[0mKeyboardInterrupt\u001b[0m\u001b[0;34m(\u001b[0m\u001b[0;34m\"Interrupted by user\"\u001b[0m\u001b[0;34m)\u001b[0m \u001b[0;32mfrom\u001b[0m \u001b[0;32mNone\u001b[0m\u001b[0;34m\u001b[0m\u001b[0;34m\u001b[0m\u001b[0m\n\u001b[0m\u001b[1;32m    896\u001b[0m             \u001b[0;32mexcept\u001b[0m \u001b[0mException\u001b[0m \u001b[0;32mas\u001b[0m \u001b[0me\u001b[0m\u001b[0;34m:\u001b[0m\u001b[0;34m\u001b[0m\u001b[0;34m\u001b[0m\u001b[0m\n\u001b[1;32m    897\u001b[0m                 \u001b[0mself\u001b[0m\u001b[0;34m.\u001b[0m\u001b[0mlog\u001b[0m\u001b[0;34m.\u001b[0m\u001b[0mwarning\u001b[0m\u001b[0;34m(\u001b[0m\u001b[0;34m\"Invalid Message:\"\u001b[0m\u001b[0;34m,\u001b[0m \u001b[0mexc_info\u001b[0m\u001b[0;34m=\u001b[0m\u001b[0;32mTrue\u001b[0m\u001b[0;34m)\u001b[0m\u001b[0;34m\u001b[0m\u001b[0;34m\u001b[0m\u001b[0m\n",
            "\u001b[0;31mKeyboardInterrupt\u001b[0m: Interrupted by user"
          ]
        }
      ]
    },
    {
      "cell_type": "code",
      "source": [],
      "metadata": {
        "id": "BFSxcO4hswU4"
      },
      "execution_count": null,
      "outputs": []
    },
    {
      "cell_type": "markdown",
      "source": [
        "# Truth table"
      ],
      "metadata": {
        "id": "ljcZG2V9l3yK"
      }
    },
    {
      "cell_type": "code",
      "source": [
        "# Importing the pandas library to create a DataFrame\n",
        "import pandas as pd\n",
        "\n",
        "# Define the truth values for propositions A and B\n",
        "A = [True, True, False, False]\n",
        "B = [True, False, True, False]\n",
        "\n",
        "# Calculate the logical expressions\n",
        "A_and_B = [a and b for a, b in zip(A, B)]\n",
        "A_or_B = [a or b for a, b in zip(A, B)]\n",
        "not_A = [not a for a in A]\n",
        "\n",
        "# Create a dictionary to hold the truth table\n",
        "truth_table = {\n",
        "    'A': A,\n",
        "    'B': B,\n",
        "    'A AND B': A_and_B,\n",
        "    'A OR B': A_or_B,\n",
        "    'NOT A': not_A\n",
        "}\n",
        "\n",
        "# Convert the dictionary to a pandas DataFrame\n",
        "df = pd.DataFrame(truth_table)\n",
        "\n",
        "# Display the truth table\n",
        "print(df)\n"
      ],
      "metadata": {
        "colab": {
          "base_uri": "https://localhost:8080/"
        },
        "id": "z3Aj85cLnEnY",
        "outputId": "3b4c6ead-4c5b-443b-b213-eda0194df58b"
      },
      "execution_count": 6,
      "outputs": [
        {
          "output_type": "stream",
          "name": "stdout",
          "text": [
            "       A      B  A AND B  A OR B  NOT A\n",
            "0   True   True     True    True  False\n",
            "1   True  False    False    True  False\n",
            "2  False   True    False    True   True\n",
            "3  False  False    False   False   True\n"
          ]
        }
      ]
    },
    {
      "cell_type": "markdown",
      "source": [
        "# Question: Request user input of a simple proposition statement. Create a truth table."
      ],
      "metadata": {
        "id": "Flb-11j4nQlQ"
      }
    },
    {
      "cell_type": "code",
      "source": [
        "import pandas as pd\n",
        "import itertools\n",
        "\n",
        "# Function to evaluate the proposition\n",
        "def evaluate_proposition(props, proposition):\n",
        "    results = []\n",
        "    for values in props:\n",
        "        local_vars = {f'P{i+1}': val for i, val in enumerate(values)}\n",
        "        results.append(eval(proposition, {}, local_vars))\n",
        "    return results\n",
        "\n",
        "# Function to generate the truth table\n",
        "def generate_truth_table(proposition, num_vars):\n",
        "    # Generate all combinations of truth values\n",
        "    combinations = list(itertools.product([True, False], repeat=num_vars))\n",
        "\n",
        "    # Evaluate the proposition for each combination\n",
        "    results = evaluate_proposition(combinations, proposition)\n",
        "\n",
        "    # Create a dataframe\n",
        "    columns = [f'P{i+1}'for i in range(num_vars)] + [proposition]\n",
        "    df = pd.DataFrame(combinations, columns=columns[:-1])\n",
        "    df[proposition] = results\n",
        "\n",
        "    return df\n",
        "\n",
        "# User input for proposition and number of variables\n",
        "proposition = input(\"Enter a propositional statement (e.g., 'P1 and P2 or not P3'): \")\n",
        "num_vars = int(input(\"Enter the number of propositional variables: \"))\n",
        "\n",
        "# Generate and display the truth table\n",
        "truth_table = generate_truth_table(proposition, num_vars)\n",
        "print(truth_table)\n"
      ],
      "metadata": {
        "id": "6j-rR3zWweVf",
        "outputId": "a626b249-9a85-4426-e429-7c95a7007a21",
        "colab": {
          "base_uri": "https://localhost:8080/"
        }
      },
      "execution_count": 8,
      "outputs": [
        {
          "output_type": "stream",
          "name": "stdout",
          "text": [
            "Enter a propositional statement (e.g., 'P1 and P2 or not P3'): P1 and P2\n",
            "Enter the number of propositional variables: 2\n",
            "      P1     P2  P1 and P2\n",
            "0   True   True       True\n",
            "1   True  False      False\n",
            "2  False   True      False\n",
            "3  False  False      False\n"
          ]
        }
      ]
    }
  ],
  "metadata": {
    "kernelspec": {
      "display_name": "Python 3",
      "name": "python3"
    },
    "language_info": {
      "name": "python"
    },
    "colab": {
      "provenance": [],
      "include_colab_link": true
    }
  },
  "nbformat": 4,
  "nbformat_minor": 0
}