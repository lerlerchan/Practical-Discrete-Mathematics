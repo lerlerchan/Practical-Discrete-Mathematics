{
  "cells": [
    {
      "cell_type": "markdown",
      "metadata": {
        "id": "RJDByl5OJh8B"
      },
      "source": [
        "# Chapter 11 - Web Searches with PageRank\n",
        "\n",
        "This notebook contains code accompanying Chapter 11 Web Searches with PageRank in *Practical Discrete Mathematics* by Ryan T. White and Archana Tikayat Ray.\n",
        "\n",
        "## Google PageRank II\n",
        "\n",
        "### Example: Computing one PageRank update"
      ]
    },
    {
      "cell_type": "code",
      "execution_count": 1,
      "metadata": {
        "id": "lup3HARpJh8D",
        "outputId": "e4f80dc6-c2cb-4bc6-e254-f4afe5bfc0e3",
        "colab": {
          "base_uri": "https://localhost:8080/"
        }
      },
      "outputs": [
        {
          "output_type": "stream",
          "name": "stdout",
          "text": [
            "[[0.3411]\n",
            " [0.0725]\n",
            " [0.0725]\n",
            " [0.3836]\n",
            " [0.1286]]\n"
          ]
        }
      ],
      "source": [
        "# import the NumPy library\n",
        "import numpy\n",
        "\n",
        "# transition probability matrix\n",
        "A = numpy.array([[0, 0.25, 0.25, 0.25, 0.25],\n",
        "                 [0.5, 0, 0, 0.5, 0],\n",
        "                 [0.33, 0, 0, 0.33, 0.33],\n",
        "                 [1, 0, 0, 0, 0],\n",
        "                 [0, 0, 0, 1, 0]])\n",
        "\n",
        "# initialize the PageRank vector\n",
        "v = numpy.array([[0.2], [0.2], [0.2], [0.2], [0.2]])\n",
        "\n",
        "# the damping factor\n",
        "d = 0.85\n",
        "\n",
        "# the size of the \"Internet\"\n",
        "N = 5\n",
        "\n",
        "# compute the update matrix\n",
        "U = d * A.T + (1 - d) / N\n",
        "\n",
        "# compute the new PageRank vector\n",
        "v = numpy.dot(U, v)\n",
        "\n",
        "# print the new PageRank vector\n",
        "print(v)"
      ]
    },
    {
      "cell_type": "markdown",
      "metadata": {
        "id": "hGEpv4z3Jh8E"
      },
      "source": [
        "Below, we loop this calculation and do 15 PageRank updates."
      ]
    },
    {
      "cell_type": "code",
      "execution_count": 2,
      "metadata": {
        "id": "BfdfH3fJJh8E",
        "outputId": "f313ebdb-28ae-45c4-85f3-d8d8652e07b2",
        "colab": {
          "base_uri": "https://localhost:8080/"
        }
      },
      "outputs": [
        {
          "output_type": "stream",
          "name": "stdout",
          "text": [
            "PageRank vector 0 is [[0.2 0.2 0.2 0.2 0.2]]\n",
            "PageRank vector 1 is [[0.341 0.073 0.073 0.384 0.129]]\n",
            "PageRank vector 2 is [[0.408 0.102 0.102 0.264 0.123]]\n",
            "PageRank vector 3 is [[0.326 0.117 0.117 0.293 0.145]]\n",
            "PageRank vector 4 is [[0.362 0.099 0.099 0.305 0.132]]\n",
            "PageRank vector 5 is [[0.359 0.107 0.107 0.289 0.135]]\n",
            "PageRank vector 6 is [[0.351 0.106 0.106 0.296 0.136]]\n",
            "PageRank vector 7 is [[0.356 0.104 0.104 0.295 0.134]]\n",
            "PageRank vector 8 is [[0.354 0.105 0.105 0.293 0.135]]\n",
            "PageRank vector 9 is [[0.353 0.105 0.105 0.294 0.134]]\n",
            "PageRank vector 10 is [[0.354 0.105 0.105 0.293 0.134]]\n",
            "PageRank vector 11 is [[0.353 0.105 0.105 0.293 0.134]]\n",
            "PageRank vector 12 is [[0.353 0.105 0.105 0.293 0.134]]\n",
            "PageRank vector 13 is [[0.353 0.105 0.105 0.293 0.134]]\n",
            "PageRank vector 14 is [[0.353 0.105 0.105 0.293 0.134]]\n",
            "PageRank vector 15 is [[0.353 0.105 0.105 0.293 0.134]]\n"
          ]
        }
      ],
      "source": [
        "# initialize the PageRank vector\n",
        "v = numpy.array([[0.2], [0.2], [0.2], [0.2], [0.2]])\n",
        "\n",
        "# print the initial vector\n",
        "print('PageRank vector', 0, 'is', v.T)\n",
        "\n",
        "# compute the PageRank vector for 15 iterations\n",
        "for i in range(15):\n",
        "    # compute the next PageRank vector\n",
        "    v = numpy.dot(U, v)\n",
        "\n",
        "    # round the PageRank vector to 3 places\n",
        "    v = numpy.round(v, 3)\n",
        "\n",
        "    # print the PageRank vector\n",
        "    print('PageRank vector', i + 1, 'is', v.T)"
      ]
    },
    {
      "cell_type": "markdown",
      "metadata": {
        "id": "LkuMs_eUJh8F"
      },
      "source": [
        "Notice that the vectors converge to a specific location. This always happens if the linking structure of the \"Internet\" does not change. Typically, these updates are computed until they converge periodically as new information is gained from the real Internet, which is changing all the time."
      ]
    },
    {
      "cell_type": "markdown",
      "metadata": {
        "id": "73BF6ya8Jh8F"
      },
      "source": [
        "## Implementing a PageRank in Python"
      ]
    },
    {
      "cell_type": "code",
      "execution_count": 3,
      "metadata": {
        "id": "U05QkAUKJh8F"
      },
      "outputs": [],
      "source": [
        "# The PageRank algorithm for ranking search results\n",
        "#\n",
        "# INPUTS\n",
        "# A - the transition probability matrix\n",
        "# d - the damping factor, default = 0.85\n",
        "# eps - the error threshold, default = 0.0005\n",
        "# maxIterations - the maximum iterations it can run before stopping\n",
        "# verbose - if true, the algorithm prints the progress of PageRank, default False\n",
        "#\n",
        "# OUTPUTS\n",
        "# vNew - the steady state PageRank vector\n",
        "\n",
        "def PageRank(A, d = 0.85, eps = 0.0005, maxIterations = 1000,\n",
        "             verbose = False):\n",
        "    # find the size of the \"Internet\"\n",
        "    N = A.shape[0]\n",
        "\n",
        "    # initialize the old and new PageRank vectors\n",
        "    vOld = numpy.ones([N])\n",
        "    vNew = numpy.ones([N])/N\n",
        "\n",
        "    # initialize a counter\n",
        "    i = 0\n",
        "\n",
        "    # compute the update matrix\n",
        "    U = d * A.T + (1 - d) / N\n",
        "\n",
        "    while numpy.linalg.norm(vOld - vNew) >= eps:\n",
        "        # if the verbose flag is true, print the progress at each iteration\n",
        "        if verbose:\n",
        "            print('At iteration', i, 'the error is',\n",
        "                  numpy.round(numpy.linalg.norm(vOld - vNew), 3),\n",
        "                  'with PageRank', numpy.round(vNew, 3))\n",
        "\n",
        "        # save the current PageRank as the old PageRank\n",
        "        vOld = vNew\n",
        "\n",
        "        # update the PageRank vector\n",
        "        vNew = numpy.dot(U, vOld)\n",
        "\n",
        "        # increment the counter\n",
        "        i += 1\n",
        "\n",
        "        # if it runs too long before converging, stop and notify the user\n",
        "        if i == maxIterations:\n",
        "            print('The PageRank algorithm ran for',\n",
        "                  maxIterations, 'with error',\n",
        "                  numpy.round(numpy.linalg.norm(vOld - vNew), 3))\n",
        "\n",
        "            # return the PageRank vectora and the\n",
        "            return vNew, i\n",
        "\n",
        "    # return the steady state PageRank vector and iteration number\n",
        "    return vNew, i"
      ]
    },
    {
      "cell_type": "markdown",
      "metadata": {
        "id": "vzqRpA_FJh8G"
      },
      "source": [
        "Below, we run the PageRank algorithm with default settings."
      ]
    },
    {
      "cell_type": "code",
      "execution_count": 4,
      "metadata": {
        "id": "HPnn6pK_Jh8G",
        "outputId": "5d4fe2ba-7fa5-4cdc-db60-ea643ffe0ce4",
        "colab": {
          "base_uri": "https://localhost:8080/"
        }
      },
      "outputs": [
        {
          "output_type": "stream",
          "name": "stdout",
          "text": [
            "At iteration 0 the error is 1.789 with PageRank [0.2 0.2 0.2 0.2 0.2]\n",
            "At iteration 1 the error is 0.303 with PageRank [0.342 0.073 0.073 0.384 0.129]\n",
            "At iteration 2 the error is 0.144 with PageRank [0.408 0.103 0.103 0.264 0.123]\n",
            "At iteration 3 the error is 0.092 with PageRank [0.327 0.117 0.117 0.294 0.146]\n",
            "At iteration 4 the error is 0.047 with PageRank [0.363 0.099 0.099 0.306 0.133]\n",
            "At iteration 5 the error is 0.019 with PageRank [0.361 0.107 0.107 0.29  0.135]\n",
            "At iteration 6 the error is 0.011 with PageRank [0.352 0.107 0.107 0.297 0.137]\n",
            "At iteration 7 the error is 0.007 with PageRank [0.358 0.105 0.105 0.297 0.135]\n",
            "At iteration 8 the error is 0.003 with PageRank [0.357 0.106 0.106 0.295 0.136]\n",
            "At iteration 9 the error is 0.001 with PageRank [0.356 0.106 0.106 0.296 0.136]\n",
            "At iteration 10 the error is 0.001 with PageRank [0.357 0.106 0.106 0.296 0.136]\n"
          ]
        },
        {
          "output_type": "execute_result",
          "data": {
            "text/plain": [
              "(array([0.3565286 , 0.10584025, 0.10584025, 0.29600666, 0.13578424]), 11)"
            ]
          },
          "metadata": {},
          "execution_count": 4
        }
      ],
      "source": [
        "# transition probability matrix\n",
        "A = numpy.array([[0, 1/4, 1/4, 1/4, 1/4],\n",
        "                 [1/2, 0, 0, 1/2, 0],\n",
        "                 [1/3, 0, 0, 1/3, 1/3],\n",
        "                 [1, 0, 0, 0, 0],\n",
        "                 [0, 0, 0, 1, 0]])\n",
        "\n",
        "# Run the PageRank algorithm with default settings\n",
        "PageRank(A, verbose = True)"
      ]
    },
    {
      "cell_type": "markdown",
      "metadata": {
        "id": "5Xa-2pPwJh8G"
      },
      "source": [
        "After webpage W3 becomes popular, let's run PageRank again and see what changes."
      ]
    },
    {
      "cell_type": "code",
      "execution_count": 5,
      "metadata": {
        "id": "HYtLQk6wJh8H",
        "outputId": "a42c273e-ac21-4e64-bcdd-b9291d2ecb52",
        "colab": {
          "base_uri": "https://localhost:8080/"
        }
      },
      "outputs": [
        {
          "output_type": "stream",
          "name": "stdout",
          "text": [
            "At iteration 0 the error is 1.789 with PageRank [0.2 0.2 0.2 0.2 0.2]\n",
            "At iteration 1 the error is 0.192 with PageRank [0.228 0.073 0.299 0.271 0.129]\n",
            "At iteration 2 the error is 0.06 with PageRank [0.25  0.079 0.269 0.239 0.163]\n",
            "At iteration 3 the error is 0.026 with PageRank [0.23  0.083 0.276 0.251 0.159]\n",
            "At iteration 4 the error is 0.01 with PageRank [0.239 0.079 0.277 0.248 0.157]\n",
            "At iteration 5 the error is 0.004 with PageRank [0.236 0.081 0.275 0.248 0.159]\n",
            "At iteration 6 the error is 0.001 with PageRank [0.236 0.08  0.276 0.249 0.158]\n",
            "At iteration 7 the error is 0.001 with PageRank [0.237 0.08  0.276 0.249 0.159]\n"
          ]
        },
        {
          "output_type": "execute_result",
          "data": {
            "text/plain": [
              "(array([0.2365497 , 0.08030807, 0.27603383, 0.24860661, 0.15850179]), 8)"
            ]
          },
          "metadata": {},
          "execution_count": 5
        }
      ],
      "source": [
        "# transition probability matrix\n",
        "B = numpy.array([[0, 1/4, 1/4, 1/4, 1/4],\n",
        "                 [1/3, 0, 1/3, 1/3, 0],\n",
        "                 [1/3, 0, 0, 1/3, 1/3],\n",
        "                 [1/2, 0, 1/2, 0, 0],\n",
        "                 [0, 0, 1/2, 1/2, 0]])\n",
        "\n",
        "# Run the PageRank algorithm with default settings\n",
        "PageRank(B, verbose = True)"
      ]
    },
    {
      "cell_type": "markdown",
      "metadata": {
        "id": "JvVXNEceJh8H"
      },
      "source": [
        "Here, the rank of the website W3 goes from 0.11 to 0.28, a big increase due to its increased popularity.\n",
        "\n",
        "## Applying the Algorithm to Real Data\n",
        "\n",
        "We have a file `California.txt`, which has a real Internet dataset of 9664 webpages containing the word \"California\" with an adjacency list representing links between the webpages. Let's read that into a `pandas` dataframe."
      ]
    },
    {
      "cell_type": "code",
      "execution_count": 6,
      "metadata": {
        "id": "3V-55mGqJh8H",
        "outputId": "753dc7d8-1677-4089-c849-a9f34f5ef3e1",
        "colab": {
          "base_uri": "https://localhost:8080/",
          "height": 423
        }
      },
      "outputs": [
        {
          "output_type": "execute_result",
          "data": {
            "text/plain": [
              "      Type  Source                                        Destination\n",
              "0        n       0                           http://www.berkeley.edu/\n",
              "1        n       1                            http://www.caltech.edu/\n",
              "2        n       2                      http://www.realestatenet.com/\n",
              "3        n       3                               http://www.ucsb.edu/\n",
              "4        n       4  http://www.washingtonpost.com/wp-srv/national/...\n",
              "...    ...     ...                                                ...\n",
              "25809    e    9663                                               1806\n",
              "25810    e    9663                                                266\n",
              "25811    e    9663                                               7905\n",
              "25812    e    9663                                                 70\n",
              "25813    e    9663                                               7907\n",
              "\n",
              "[25814 rows x 3 columns]"
            ],
            "text/html": [
              "\n",
              "  <div id=\"df-0d06e672-61db-4a87-a137-97a035d00474\" class=\"colab-df-container\">\n",
              "    <div>\n",
              "<style scoped>\n",
              "    .dataframe tbody tr th:only-of-type {\n",
              "        vertical-align: middle;\n",
              "    }\n",
              "\n",
              "    .dataframe tbody tr th {\n",
              "        vertical-align: top;\n",
              "    }\n",
              "\n",
              "    .dataframe thead th {\n",
              "        text-align: right;\n",
              "    }\n",
              "</style>\n",
              "<table border=\"1\" class=\"dataframe\">\n",
              "  <thead>\n",
              "    <tr style=\"text-align: right;\">\n",
              "      <th></th>\n",
              "      <th>Type</th>\n",
              "      <th>Source</th>\n",
              "      <th>Destination</th>\n",
              "    </tr>\n",
              "  </thead>\n",
              "  <tbody>\n",
              "    <tr>\n",
              "      <th>0</th>\n",
              "      <td>n</td>\n",
              "      <td>0</td>\n",
              "      <td>http://www.berkeley.edu/</td>\n",
              "    </tr>\n",
              "    <tr>\n",
              "      <th>1</th>\n",
              "      <td>n</td>\n",
              "      <td>1</td>\n",
              "      <td>http://www.caltech.edu/</td>\n",
              "    </tr>\n",
              "    <tr>\n",
              "      <th>2</th>\n",
              "      <td>n</td>\n",
              "      <td>2</td>\n",
              "      <td>http://www.realestatenet.com/</td>\n",
              "    </tr>\n",
              "    <tr>\n",
              "      <th>3</th>\n",
              "      <td>n</td>\n",
              "      <td>3</td>\n",
              "      <td>http://www.ucsb.edu/</td>\n",
              "    </tr>\n",
              "    <tr>\n",
              "      <th>4</th>\n",
              "      <td>n</td>\n",
              "      <td>4</td>\n",
              "      <td>http://www.washingtonpost.com/wp-srv/national/...</td>\n",
              "    </tr>\n",
              "    <tr>\n",
              "      <th>...</th>\n",
              "      <td>...</td>\n",
              "      <td>...</td>\n",
              "      <td>...</td>\n",
              "    </tr>\n",
              "    <tr>\n",
              "      <th>25809</th>\n",
              "      <td>e</td>\n",
              "      <td>9663</td>\n",
              "      <td>1806</td>\n",
              "    </tr>\n",
              "    <tr>\n",
              "      <th>25810</th>\n",
              "      <td>e</td>\n",
              "      <td>9663</td>\n",
              "      <td>266</td>\n",
              "    </tr>\n",
              "    <tr>\n",
              "      <th>25811</th>\n",
              "      <td>e</td>\n",
              "      <td>9663</td>\n",
              "      <td>7905</td>\n",
              "    </tr>\n",
              "    <tr>\n",
              "      <th>25812</th>\n",
              "      <td>e</td>\n",
              "      <td>9663</td>\n",
              "      <td>70</td>\n",
              "    </tr>\n",
              "    <tr>\n",
              "      <th>25813</th>\n",
              "      <td>e</td>\n",
              "      <td>9663</td>\n",
              "      <td>7907</td>\n",
              "    </tr>\n",
              "  </tbody>\n",
              "</table>\n",
              "<p>25814 rows × 3 columns</p>\n",
              "</div>\n",
              "    <div class=\"colab-df-buttons\">\n",
              "\n",
              "  <div class=\"colab-df-container\">\n",
              "    <button class=\"colab-df-convert\" onclick=\"convertToInteractive('df-0d06e672-61db-4a87-a137-97a035d00474')\"\n",
              "            title=\"Convert this dataframe to an interactive table.\"\n",
              "            style=\"display:none;\">\n",
              "\n",
              "  <svg xmlns=\"http://www.w3.org/2000/svg\" height=\"24px\" viewBox=\"0 -960 960 960\">\n",
              "    <path d=\"M120-120v-720h720v720H120Zm60-500h600v-160H180v160Zm220 220h160v-160H400v160Zm0 220h160v-160H400v160ZM180-400h160v-160H180v160Zm440 0h160v-160H620v160ZM180-180h160v-160H180v160Zm440 0h160v-160H620v160Z\"/>\n",
              "  </svg>\n",
              "    </button>\n",
              "\n",
              "  <style>\n",
              "    .colab-df-container {\n",
              "      display:flex;\n",
              "      gap: 12px;\n",
              "    }\n",
              "\n",
              "    .colab-df-convert {\n",
              "      background-color: #E8F0FE;\n",
              "      border: none;\n",
              "      border-radius: 50%;\n",
              "      cursor: pointer;\n",
              "      display: none;\n",
              "      fill: #1967D2;\n",
              "      height: 32px;\n",
              "      padding: 0 0 0 0;\n",
              "      width: 32px;\n",
              "    }\n",
              "\n",
              "    .colab-df-convert:hover {\n",
              "      background-color: #E2EBFA;\n",
              "      box-shadow: 0px 1px 2px rgba(60, 64, 67, 0.3), 0px 1px 3px 1px rgba(60, 64, 67, 0.15);\n",
              "      fill: #174EA6;\n",
              "    }\n",
              "\n",
              "    .colab-df-buttons div {\n",
              "      margin-bottom: 4px;\n",
              "    }\n",
              "\n",
              "    [theme=dark] .colab-df-convert {\n",
              "      background-color: #3B4455;\n",
              "      fill: #D2E3FC;\n",
              "    }\n",
              "\n",
              "    [theme=dark] .colab-df-convert:hover {\n",
              "      background-color: #434B5C;\n",
              "      box-shadow: 0px 1px 3px 1px rgba(0, 0, 0, 0.15);\n",
              "      filter: drop-shadow(0px 1px 2px rgba(0, 0, 0, 0.3));\n",
              "      fill: #FFFFFF;\n",
              "    }\n",
              "  </style>\n",
              "\n",
              "    <script>\n",
              "      const buttonEl =\n",
              "        document.querySelector('#df-0d06e672-61db-4a87-a137-97a035d00474 button.colab-df-convert');\n",
              "      buttonEl.style.display =\n",
              "        google.colab.kernel.accessAllowed ? 'block' : 'none';\n",
              "\n",
              "      async function convertToInteractive(key) {\n",
              "        const element = document.querySelector('#df-0d06e672-61db-4a87-a137-97a035d00474');\n",
              "        const dataTable =\n",
              "          await google.colab.kernel.invokeFunction('convertToInteractive',\n",
              "                                                    [key], {});\n",
              "        if (!dataTable) return;\n",
              "\n",
              "        const docLinkHtml = 'Like what you see? Visit the ' +\n",
              "          '<a target=\"_blank\" href=https://colab.research.google.com/notebooks/data_table.ipynb>data table notebook</a>'\n",
              "          + ' to learn more about interactive tables.';\n",
              "        element.innerHTML = '';\n",
              "        dataTable['output_type'] = 'display_data';\n",
              "        await google.colab.output.renderOutput(dataTable, element);\n",
              "        const docLink = document.createElement('div');\n",
              "        docLink.innerHTML = docLinkHtml;\n",
              "        element.appendChild(docLink);\n",
              "      }\n",
              "    </script>\n",
              "  </div>\n",
              "\n",
              "\n",
              "<div id=\"df-ba5d20ce-70da-4f3f-9bfd-41c324bcb8ea\">\n",
              "  <button class=\"colab-df-quickchart\" onclick=\"quickchart('df-ba5d20ce-70da-4f3f-9bfd-41c324bcb8ea')\"\n",
              "            title=\"Suggest charts\"\n",
              "            style=\"display:none;\">\n",
              "\n",
              "<svg xmlns=\"http://www.w3.org/2000/svg\" height=\"24px\"viewBox=\"0 0 24 24\"\n",
              "     width=\"24px\">\n",
              "    <g>\n",
              "        <path d=\"M19 3H5c-1.1 0-2 .9-2 2v14c0 1.1.9 2 2 2h14c1.1 0 2-.9 2-2V5c0-1.1-.9-2-2-2zM9 17H7v-7h2v7zm4 0h-2V7h2v10zm4 0h-2v-4h2v4z\"/>\n",
              "    </g>\n",
              "</svg>\n",
              "  </button>\n",
              "\n",
              "<style>\n",
              "  .colab-df-quickchart {\n",
              "      --bg-color: #E8F0FE;\n",
              "      --fill-color: #1967D2;\n",
              "      --hover-bg-color: #E2EBFA;\n",
              "      --hover-fill-color: #174EA6;\n",
              "      --disabled-fill-color: #AAA;\n",
              "      --disabled-bg-color: #DDD;\n",
              "  }\n",
              "\n",
              "  [theme=dark] .colab-df-quickchart {\n",
              "      --bg-color: #3B4455;\n",
              "      --fill-color: #D2E3FC;\n",
              "      --hover-bg-color: #434B5C;\n",
              "      --hover-fill-color: #FFFFFF;\n",
              "      --disabled-bg-color: #3B4455;\n",
              "      --disabled-fill-color: #666;\n",
              "  }\n",
              "\n",
              "  .colab-df-quickchart {\n",
              "    background-color: var(--bg-color);\n",
              "    border: none;\n",
              "    border-radius: 50%;\n",
              "    cursor: pointer;\n",
              "    display: none;\n",
              "    fill: var(--fill-color);\n",
              "    height: 32px;\n",
              "    padding: 0;\n",
              "    width: 32px;\n",
              "  }\n",
              "\n",
              "  .colab-df-quickchart:hover {\n",
              "    background-color: var(--hover-bg-color);\n",
              "    box-shadow: 0 1px 2px rgba(60, 64, 67, 0.3), 0 1px 3px 1px rgba(60, 64, 67, 0.15);\n",
              "    fill: var(--button-hover-fill-color);\n",
              "  }\n",
              "\n",
              "  .colab-df-quickchart-complete:disabled,\n",
              "  .colab-df-quickchart-complete:disabled:hover {\n",
              "    background-color: var(--disabled-bg-color);\n",
              "    fill: var(--disabled-fill-color);\n",
              "    box-shadow: none;\n",
              "  }\n",
              "\n",
              "  .colab-df-spinner {\n",
              "    border: 2px solid var(--fill-color);\n",
              "    border-color: transparent;\n",
              "    border-bottom-color: var(--fill-color);\n",
              "    animation:\n",
              "      spin 1s steps(1) infinite;\n",
              "  }\n",
              "\n",
              "  @keyframes spin {\n",
              "    0% {\n",
              "      border-color: transparent;\n",
              "      border-bottom-color: var(--fill-color);\n",
              "      border-left-color: var(--fill-color);\n",
              "    }\n",
              "    20% {\n",
              "      border-color: transparent;\n",
              "      border-left-color: var(--fill-color);\n",
              "      border-top-color: var(--fill-color);\n",
              "    }\n",
              "    30% {\n",
              "      border-color: transparent;\n",
              "      border-left-color: var(--fill-color);\n",
              "      border-top-color: var(--fill-color);\n",
              "      border-right-color: var(--fill-color);\n",
              "    }\n",
              "    40% {\n",
              "      border-color: transparent;\n",
              "      border-right-color: var(--fill-color);\n",
              "      border-top-color: var(--fill-color);\n",
              "    }\n",
              "    60% {\n",
              "      border-color: transparent;\n",
              "      border-right-color: var(--fill-color);\n",
              "    }\n",
              "    80% {\n",
              "      border-color: transparent;\n",
              "      border-right-color: var(--fill-color);\n",
              "      border-bottom-color: var(--fill-color);\n",
              "    }\n",
              "    90% {\n",
              "      border-color: transparent;\n",
              "      border-bottom-color: var(--fill-color);\n",
              "    }\n",
              "  }\n",
              "</style>\n",
              "\n",
              "  <script>\n",
              "    async function quickchart(key) {\n",
              "      const quickchartButtonEl =\n",
              "        document.querySelector('#' + key + ' button');\n",
              "      quickchartButtonEl.disabled = true;  // To prevent multiple clicks.\n",
              "      quickchartButtonEl.classList.add('colab-df-spinner');\n",
              "      try {\n",
              "        const charts = await google.colab.kernel.invokeFunction(\n",
              "            'suggestCharts', [key], {});\n",
              "      } catch (error) {\n",
              "        console.error('Error during call to suggestCharts:', error);\n",
              "      }\n",
              "      quickchartButtonEl.classList.remove('colab-df-spinner');\n",
              "      quickchartButtonEl.classList.add('colab-df-quickchart-complete');\n",
              "    }\n",
              "    (() => {\n",
              "      let quickchartButtonEl =\n",
              "        document.querySelector('#df-ba5d20ce-70da-4f3f-9bfd-41c324bcb8ea button');\n",
              "      quickchartButtonEl.style.display =\n",
              "        google.colab.kernel.accessAllowed ? 'block' : 'none';\n",
              "    })();\n",
              "  </script>\n",
              "</div>\n",
              "\n",
              "  <div id=\"id_1ebe4be2-c1e0-4875-8026-0776fdac3c59\">\n",
              "    <style>\n",
              "      .colab-df-generate {\n",
              "        background-color: #E8F0FE;\n",
              "        border: none;\n",
              "        border-radius: 50%;\n",
              "        cursor: pointer;\n",
              "        display: none;\n",
              "        fill: #1967D2;\n",
              "        height: 32px;\n",
              "        padding: 0 0 0 0;\n",
              "        width: 32px;\n",
              "      }\n",
              "\n",
              "      .colab-df-generate:hover {\n",
              "        background-color: #E2EBFA;\n",
              "        box-shadow: 0px 1px 2px rgba(60, 64, 67, 0.3), 0px 1px 3px 1px rgba(60, 64, 67, 0.15);\n",
              "        fill: #174EA6;\n",
              "      }\n",
              "\n",
              "      [theme=dark] .colab-df-generate {\n",
              "        background-color: #3B4455;\n",
              "        fill: #D2E3FC;\n",
              "      }\n",
              "\n",
              "      [theme=dark] .colab-df-generate:hover {\n",
              "        background-color: #434B5C;\n",
              "        box-shadow: 0px 1px 3px 1px rgba(0, 0, 0, 0.15);\n",
              "        filter: drop-shadow(0px 1px 2px rgba(0, 0, 0, 0.3));\n",
              "        fill: #FFFFFF;\n",
              "      }\n",
              "    </style>\n",
              "    <button class=\"colab-df-generate\" onclick=\"generateWithVariable('data')\"\n",
              "            title=\"Generate code using this dataframe.\"\n",
              "            style=\"display:none;\">\n",
              "\n",
              "  <svg xmlns=\"http://www.w3.org/2000/svg\" height=\"24px\"viewBox=\"0 0 24 24\"\n",
              "       width=\"24px\">\n",
              "    <path d=\"M7,19H8.4L18.45,9,17,7.55,7,17.6ZM5,21V16.75L18.45,3.32a2,2,0,0,1,2.83,0l1.4,1.43a1.91,1.91,0,0,1,.58,1.4,1.91,1.91,0,0,1-.58,1.4L9.25,21ZM18.45,9,17,7.55Zm-12,3A5.31,5.31,0,0,0,4.9,8.1,5.31,5.31,0,0,0,1,6.5,5.31,5.31,0,0,0,4.9,4.9,5.31,5.31,0,0,0,6.5,1,5.31,5.31,0,0,0,8.1,4.9,5.31,5.31,0,0,0,12,6.5,5.46,5.46,0,0,0,6.5,12Z\"/>\n",
              "  </svg>\n",
              "    </button>\n",
              "    <script>\n",
              "      (() => {\n",
              "      const buttonEl =\n",
              "        document.querySelector('#id_1ebe4be2-c1e0-4875-8026-0776fdac3c59 button.colab-df-generate');\n",
              "      buttonEl.style.display =\n",
              "        google.colab.kernel.accessAllowed ? 'block' : 'none';\n",
              "\n",
              "      buttonEl.onclick = () => {\n",
              "        google.colab.notebook.generateWithVariable('data');\n",
              "      }\n",
              "      })();\n",
              "    </script>\n",
              "  </div>\n",
              "\n",
              "    </div>\n",
              "  </div>\n"
            ],
            "application/vnd.google.colaboratory.intrinsic+json": {
              "type": "dataframe",
              "variable_name": "data",
              "summary": "{\n  \"name\": \"data\",\n  \"rows\": 25814,\n  \"fields\": [\n    {\n      \"column\": \"Type\",\n      \"properties\": {\n        \"dtype\": \"category\",\n        \"num_unique_values\": 2,\n        \"samples\": [\n          \"e\",\n          \"n\"\n        ],\n        \"semantic_type\": \"\",\n        \"description\": \"\"\n      }\n    },\n    {\n      \"column\": \"Source\",\n      \"properties\": {\n        \"dtype\": \"number\",\n        \"std\": 2830,\n        \"min\": 0,\n        \"max\": 9663,\n        \"num_unique_values\": 9664,\n        \"samples\": [\n          5821,\n          3038\n        ],\n        \"semantic_type\": \"\",\n        \"description\": \"\"\n      }\n    },\n    {\n      \"column\": \"Destination\",\n      \"properties\": {\n        \"dtype\": \"category\",\n        \"num_unique_values\": 11762,\n        \"samples\": [\n          \"http://www.fix.net/~gstroop/index.htm\",\n          \"5275\"\n        ],\n        \"semantic_type\": \"\",\n        \"description\": \"\"\n      }\n    }\n  ]\n}"
            }
          },
          "metadata": {},
          "execution_count": 6
        }
      ],
      "source": [
        "# import the pandas library\n",
        "import pandas\n",
        "\n",
        "# read the txt file into a dataframe\n",
        "data = pandas.read_csv(\"California.txt\", delimiter=' ')\n",
        "\n",
        "# display the dataframe\n",
        "data"
      ]
    },
    {
      "cell_type": "markdown",
      "metadata": {
        "id": "KV77HjaYJh8H"
      },
      "source": [
        "Next, we preprocess the data to extract the adjacency list, drop the all the \"e\" strings in the first column, convert the remaining numerical portion to a `NumPy` array, and store the numbers as integers."
      ]
    },
    {
      "cell_type": "code",
      "execution_count": 7,
      "metadata": {
        "id": "fqb6mQ69Jh8H",
        "outputId": "25ae9908-45f8-48d0-a581-07556fde2b4b",
        "colab": {
          "base_uri": "https://localhost:8080/"
        }
      },
      "outputs": [
        {
          "output_type": "stream",
          "name": "stdout",
          "text": [
            "[[   0  449]\n",
            " [   0  450]\n",
            " [   0  451]\n",
            " ...\n",
            " [9663 7905]\n",
            " [9663   70]\n",
            " [9663 7907]]\n"
          ]
        }
      ],
      "source": [
        "# preprocess the data\n",
        "\n",
        "# select only the rows with type 'e'\n",
        "adjacencies = data.loc[data['Type'] == 'e']\n",
        "\n",
        "# drop the 'Type' column\n",
        "adjacencies = adjacencies.drop(columns = 'Type')\n",
        "\n",
        "# convert the adjacency list to a NumPy array\n",
        "adjacencies = adjacencies.to_numpy()\n",
        "\n",
        "# convert the adjacency list to integers\n",
        "adjacencies = adjacencies.astype('int')\n",
        "\n",
        "# print the adjacency list\n",
        "print(adjacencies)"
      ]
    },
    {
      "cell_type": "markdown",
      "metadata": {
        "id": "IYMrJ0uyJh8I"
      },
      "source": [
        "Next, let’s convert the adjacency list to an adjacency matrix."
      ]
    },
    {
      "cell_type": "code",
      "execution_count": 8,
      "metadata": {
        "id": "DPIE5AaIJh8I"
      },
      "outputs": [],
      "source": [
        "# convert the adjacency list to an adjacency matrix\n",
        "\n",
        "# find the number of webpages and initialize A\n",
        "N = numpy.max(adjacencies) + 1\n",
        "A = numpy.zeros([N, N])\n",
        "\n",
        "# iterate over the rows of the adjacency list\n",
        "for k in range(adjacencies.shape[0]):\n",
        "    # find the adjacent vertex numbers\n",
        "    i, j = adjacencies[k,]\n",
        "\n",
        "    # put 1 in the adjacency matrix\n",
        "    A[i, j] = 1"
      ]
    },
    {
      "cell_type": "markdown",
      "metadata": {
        "id": "SpR56JGUJh8I"
      },
      "source": [
        "Next, we need to convert $\\mathbf{A}$ to the transition probability matrix by dividing each 1 corresponding to an outgoing link by the total number of outgoing links from that webpage. In other words, we divide each row by its row sum."
      ]
    },
    {
      "cell_type": "code",
      "execution_count": 9,
      "metadata": {
        "id": "qsMr8Vn8Jh8J"
      },
      "outputs": [],
      "source": [
        "# convert A to the transition probability matrix\n",
        "\n",
        "# divide each row of A by its row sum\n",
        "rowSums = A.sum(axis = 1)[:,None]\n",
        "\n",
        "# divide A by the rowSums\n",
        "A = numpy.divide(A, rowSums, where = rowSums != 0)"
      ]
    },
    {
      "cell_type": "markdown",
      "metadata": {
        "id": "53_EgwAaJh8J"
      },
      "source": [
        "Next, let’s run `PageRank` on this transition probability matrix."
      ]
    },
    {
      "cell_type": "code",
      "execution_count": 10,
      "metadata": {
        "id": "pmm_uggvJh8J",
        "outputId": "80d24a4d-3d88-4477-9472-348bca4d36d8",
        "colab": {
          "base_uri": "https://localhost:8080/"
        }
      },
      "outputs": [
        {
          "output_type": "stream",
          "name": "stdout",
          "text": [
            "[2.79688870e-05 6.29671046e-06 2.06171425e-07 ... 9.48337601e-08\n",
            " 9.48337601e-08 9.48337601e-08]\n",
            "14\n"
          ]
        }
      ],
      "source": [
        "# run PageRank\n",
        "v, i = PageRank(A)\n",
        "\n",
        "# print the steady state PageRank vector and iteration number\n",
        "print(v)\n",
        "print(i)"
      ]
    },
    {
      "cell_type": "markdown",
      "metadata": {
        "id": "2rgEm8U1Jh8J"
      },
      "source": [
        "As we see, feeding this large transition probability matrix of dimensions 9663-by-9663 converges to a steady state PageRank vector in 14 iterations. We will then sort the PageRanks from highest to lowest and save the indices of the sorted list."
      ]
    },
    {
      "cell_type": "code",
      "execution_count": 11,
      "metadata": {
        "id": "H1BppxnRJh8K"
      },
      "outputs": [],
      "source": [
        "# sort the PageRanks in ascending order\n",
        "ranks = numpy.argsort(v)\n",
        "\n",
        "# find the PageRanks in descending order\n",
        "ranks = numpy.flip(ranks)"
      ]
    },
    {
      "cell_type": "code",
      "execution_count": 12,
      "metadata": {
        "id": "pFzY6VF8Jh8K",
        "outputId": "f5789402-5e55-4d0c-8043-67206924fcbd",
        "colab": {
          "base_uri": "https://localhost:8080/"
        }
      },
      "outputs": [
        {
          "output_type": "stream",
          "name": "stdout",
          "text": [
            "[4391 1488  997 ... 5632 5633 9663]\n"
          ]
        }
      ],
      "source": [
        "print(ranks)"
      ]
    },
    {
      "cell_type": "markdown",
      "metadata": {
        "id": "-4ioxM2wJh8K"
      },
      "source": [
        "Then, let’s return the top 10 webpages containing the word “California.”"
      ]
    },
    {
      "cell_type": "code",
      "execution_count": 13,
      "metadata": {
        "id": "p-h3g8f1Jh8K",
        "outputId": "8ed54759-2b66-42c5-b33d-54a98032b213",
        "colab": {
          "base_uri": "https://localhost:8080/",
          "height": 364
        }
      },
      "outputs": [
        {
          "output_type": "error",
          "ename": "AttributeError",
          "evalue": "'DataFrame' object has no attribute 'append'",
          "traceback": [
            "\u001b[0;31m---------------------------------------------------------------------------\u001b[0m",
            "\u001b[0;31mAttributeError\u001b[0m                            Traceback (most recent call last)",
            "\u001b[0;32m<ipython-input-13-ad823961b623>\u001b[0m in \u001b[0;36m<cell line: 5>\u001b[0;34m()\u001b[0m\n\u001b[1;32m      6\u001b[0m     row = data.loc[(data['Type'] == 'n')\n\u001b[1;32m      7\u001b[0m                    & (data['Source'] == ranks[i])]\n\u001b[0;32m----> 8\u001b[0;31m     \u001b[0mrankedPages\u001b[0m \u001b[0;34m=\u001b[0m \u001b[0mrankedPages\u001b[0m\u001b[0;34m.\u001b[0m\u001b[0mappend\u001b[0m\u001b[0;34m(\u001b[0m\u001b[0mrow\u001b[0m\u001b[0;34m)\u001b[0m\u001b[0;34m\u001b[0m\u001b[0;34m\u001b[0m\u001b[0m\n\u001b[0m\u001b[1;32m      9\u001b[0m \u001b[0;34m\u001b[0m\u001b[0m\n\u001b[1;32m     10\u001b[0m \u001b[0;31m# display the top 10\u001b[0m\u001b[0;34m\u001b[0m\u001b[0;34m\u001b[0m\u001b[0m\n",
            "\u001b[0;32m/usr/local/lib/python3.10/dist-packages/pandas/core/generic.py\u001b[0m in \u001b[0;36m__getattr__\u001b[0;34m(self, name)\u001b[0m\n\u001b[1;32m   6297\u001b[0m         ):\n\u001b[1;32m   6298\u001b[0m             \u001b[0;32mreturn\u001b[0m \u001b[0mself\u001b[0m\u001b[0;34m[\u001b[0m\u001b[0mname\u001b[0m\u001b[0;34m]\u001b[0m\u001b[0;34m\u001b[0m\u001b[0;34m\u001b[0m\u001b[0m\n\u001b[0;32m-> 6299\u001b[0;31m         \u001b[0;32mreturn\u001b[0m \u001b[0mobject\u001b[0m\u001b[0;34m.\u001b[0m\u001b[0m__getattribute__\u001b[0m\u001b[0;34m(\u001b[0m\u001b[0mself\u001b[0m\u001b[0;34m,\u001b[0m \u001b[0mname\u001b[0m\u001b[0;34m)\u001b[0m\u001b[0;34m\u001b[0m\u001b[0;34m\u001b[0m\u001b[0m\n\u001b[0m\u001b[1;32m   6300\u001b[0m \u001b[0;34m\u001b[0m\u001b[0m\n\u001b[1;32m   6301\u001b[0m     \u001b[0;34m@\u001b[0m\u001b[0mfinal\u001b[0m\u001b[0;34m\u001b[0m\u001b[0;34m\u001b[0m\u001b[0m\n",
            "\u001b[0;31mAttributeError\u001b[0m: 'DataFrame' object has no attribute 'append'"
          ]
        }
      ],
      "source": [
        "# return the URLs of the top few webpages\n",
        "rankedPages = pandas.DataFrame(columns = ['Type', 'Source', 'Destination'])\n",
        "\n",
        "# add the top 10-ranked webpages\n",
        "for i in range(10):\n",
        "    row = data.loc[(data['Type'] == 'n')\n",
        "                   & (data['Source'] == ranks[i])]\n",
        "    rankedPages = rankedPages.append(row)\n",
        "\n",
        "# display the top 10\n",
        "rankedPages.drop(columns = ['Type', 'Source'])"
      ]
    },
    {
      "cell_type": "code",
      "source": [
        "# return the URLs of the top few webpages\n",
        "import pandas\n",
        "rankedPages = pandas.DataFrame(columns = ['Type', 'Source', 'Destination'])\n",
        "\n",
        "# add the top 10-ranked webpages\n",
        "for i in range(10):\n",
        "    row = data.loc[(data['Type'] == 'n')\n",
        "                   & (data['Source'] == ranks[i])]\n",
        "    # Use pandas.concat instead of append\n",
        "    rankedPages = pandas.concat([rankedPages, row], ignore_index=True)\n",
        "\n",
        "# display the top 10\n",
        "rankedPages.drop(columns = ['Type', 'Source'])"
      ],
      "metadata": {
        "id": "yWQ480qWSPRw",
        "outputId": "cb5e8c3e-809f-4ed4-ed24-9fa093e7b871",
        "colab": {
          "base_uri": "https://localhost:8080/",
          "height": 363
        }
      },
      "execution_count": 14,
      "outputs": [
        {
          "output_type": "execute_result",
          "data": {
            "text/plain": [
              "                                  Destination\n",
              "0                  http://search.ucdavis.edu/\n",
              "1                     http://www.ucdavis.edu/\n",
              "2            http://www.gene.com/ae/bioforum/\n",
              "3                     http://www.lib.uci.edu/\n",
              "4  http://vision.berkeley.edu/VSP/index.shtml\n",
              "5                         http://www.uci.edu/\n",
              "6                http://www.students.ucr.edu/\n",
              "7              http://spectacle.berkeley.edu/\n",
              "8                  http://www.calacademy.org/\n",
              "9                         http://www.scag.org"
            ],
            "text/html": [
              "\n",
              "  <div id=\"df-8c81fa74-a66c-464f-9801-6e368e587971\" class=\"colab-df-container\">\n",
              "    <div>\n",
              "<style scoped>\n",
              "    .dataframe tbody tr th:only-of-type {\n",
              "        vertical-align: middle;\n",
              "    }\n",
              "\n",
              "    .dataframe tbody tr th {\n",
              "        vertical-align: top;\n",
              "    }\n",
              "\n",
              "    .dataframe thead th {\n",
              "        text-align: right;\n",
              "    }\n",
              "</style>\n",
              "<table border=\"1\" class=\"dataframe\">\n",
              "  <thead>\n",
              "    <tr style=\"text-align: right;\">\n",
              "      <th></th>\n",
              "      <th>Destination</th>\n",
              "    </tr>\n",
              "  </thead>\n",
              "  <tbody>\n",
              "    <tr>\n",
              "      <th>0</th>\n",
              "      <td>http://search.ucdavis.edu/</td>\n",
              "    </tr>\n",
              "    <tr>\n",
              "      <th>1</th>\n",
              "      <td>http://www.ucdavis.edu/</td>\n",
              "    </tr>\n",
              "    <tr>\n",
              "      <th>2</th>\n",
              "      <td>http://www.gene.com/ae/bioforum/</td>\n",
              "    </tr>\n",
              "    <tr>\n",
              "      <th>3</th>\n",
              "      <td>http://www.lib.uci.edu/</td>\n",
              "    </tr>\n",
              "    <tr>\n",
              "      <th>4</th>\n",
              "      <td>http://vision.berkeley.edu/VSP/index.shtml</td>\n",
              "    </tr>\n",
              "    <tr>\n",
              "      <th>5</th>\n",
              "      <td>http://www.uci.edu/</td>\n",
              "    </tr>\n",
              "    <tr>\n",
              "      <th>6</th>\n",
              "      <td>http://www.students.ucr.edu/</td>\n",
              "    </tr>\n",
              "    <tr>\n",
              "      <th>7</th>\n",
              "      <td>http://spectacle.berkeley.edu/</td>\n",
              "    </tr>\n",
              "    <tr>\n",
              "      <th>8</th>\n",
              "      <td>http://www.calacademy.org/</td>\n",
              "    </tr>\n",
              "    <tr>\n",
              "      <th>9</th>\n",
              "      <td>http://www.scag.org</td>\n",
              "    </tr>\n",
              "  </tbody>\n",
              "</table>\n",
              "</div>\n",
              "    <div class=\"colab-df-buttons\">\n",
              "\n",
              "  <div class=\"colab-df-container\">\n",
              "    <button class=\"colab-df-convert\" onclick=\"convertToInteractive('df-8c81fa74-a66c-464f-9801-6e368e587971')\"\n",
              "            title=\"Convert this dataframe to an interactive table.\"\n",
              "            style=\"display:none;\">\n",
              "\n",
              "  <svg xmlns=\"http://www.w3.org/2000/svg\" height=\"24px\" viewBox=\"0 -960 960 960\">\n",
              "    <path d=\"M120-120v-720h720v720H120Zm60-500h600v-160H180v160Zm220 220h160v-160H400v160Zm0 220h160v-160H400v160ZM180-400h160v-160H180v160Zm440 0h160v-160H620v160ZM180-180h160v-160H180v160Zm440 0h160v-160H620v160Z\"/>\n",
              "  </svg>\n",
              "    </button>\n",
              "\n",
              "  <style>\n",
              "    .colab-df-container {\n",
              "      display:flex;\n",
              "      gap: 12px;\n",
              "    }\n",
              "\n",
              "    .colab-df-convert {\n",
              "      background-color: #E8F0FE;\n",
              "      border: none;\n",
              "      border-radius: 50%;\n",
              "      cursor: pointer;\n",
              "      display: none;\n",
              "      fill: #1967D2;\n",
              "      height: 32px;\n",
              "      padding: 0 0 0 0;\n",
              "      width: 32px;\n",
              "    }\n",
              "\n",
              "    .colab-df-convert:hover {\n",
              "      background-color: #E2EBFA;\n",
              "      box-shadow: 0px 1px 2px rgba(60, 64, 67, 0.3), 0px 1px 3px 1px rgba(60, 64, 67, 0.15);\n",
              "      fill: #174EA6;\n",
              "    }\n",
              "\n",
              "    .colab-df-buttons div {\n",
              "      margin-bottom: 4px;\n",
              "    }\n",
              "\n",
              "    [theme=dark] .colab-df-convert {\n",
              "      background-color: #3B4455;\n",
              "      fill: #D2E3FC;\n",
              "    }\n",
              "\n",
              "    [theme=dark] .colab-df-convert:hover {\n",
              "      background-color: #434B5C;\n",
              "      box-shadow: 0px 1px 3px 1px rgba(0, 0, 0, 0.15);\n",
              "      filter: drop-shadow(0px 1px 2px rgba(0, 0, 0, 0.3));\n",
              "      fill: #FFFFFF;\n",
              "    }\n",
              "  </style>\n",
              "\n",
              "    <script>\n",
              "      const buttonEl =\n",
              "        document.querySelector('#df-8c81fa74-a66c-464f-9801-6e368e587971 button.colab-df-convert');\n",
              "      buttonEl.style.display =\n",
              "        google.colab.kernel.accessAllowed ? 'block' : 'none';\n",
              "\n",
              "      async function convertToInteractive(key) {\n",
              "        const element = document.querySelector('#df-8c81fa74-a66c-464f-9801-6e368e587971');\n",
              "        const dataTable =\n",
              "          await google.colab.kernel.invokeFunction('convertToInteractive',\n",
              "                                                    [key], {});\n",
              "        if (!dataTable) return;\n",
              "\n",
              "        const docLinkHtml = 'Like what you see? Visit the ' +\n",
              "          '<a target=\"_blank\" href=https://colab.research.google.com/notebooks/data_table.ipynb>data table notebook</a>'\n",
              "          + ' to learn more about interactive tables.';\n",
              "        element.innerHTML = '';\n",
              "        dataTable['output_type'] = 'display_data';\n",
              "        await google.colab.output.renderOutput(dataTable, element);\n",
              "        const docLink = document.createElement('div');\n",
              "        docLink.innerHTML = docLinkHtml;\n",
              "        element.appendChild(docLink);\n",
              "      }\n",
              "    </script>\n",
              "  </div>\n",
              "\n",
              "\n",
              "<div id=\"df-d2601b09-3f94-43fe-867e-2c41038619ff\">\n",
              "  <button class=\"colab-df-quickchart\" onclick=\"quickchart('df-d2601b09-3f94-43fe-867e-2c41038619ff')\"\n",
              "            title=\"Suggest charts\"\n",
              "            style=\"display:none;\">\n",
              "\n",
              "<svg xmlns=\"http://www.w3.org/2000/svg\" height=\"24px\"viewBox=\"0 0 24 24\"\n",
              "     width=\"24px\">\n",
              "    <g>\n",
              "        <path d=\"M19 3H5c-1.1 0-2 .9-2 2v14c0 1.1.9 2 2 2h14c1.1 0 2-.9 2-2V5c0-1.1-.9-2-2-2zM9 17H7v-7h2v7zm4 0h-2V7h2v10zm4 0h-2v-4h2v4z\"/>\n",
              "    </g>\n",
              "</svg>\n",
              "  </button>\n",
              "\n",
              "<style>\n",
              "  .colab-df-quickchart {\n",
              "      --bg-color: #E8F0FE;\n",
              "      --fill-color: #1967D2;\n",
              "      --hover-bg-color: #E2EBFA;\n",
              "      --hover-fill-color: #174EA6;\n",
              "      --disabled-fill-color: #AAA;\n",
              "      --disabled-bg-color: #DDD;\n",
              "  }\n",
              "\n",
              "  [theme=dark] .colab-df-quickchart {\n",
              "      --bg-color: #3B4455;\n",
              "      --fill-color: #D2E3FC;\n",
              "      --hover-bg-color: #434B5C;\n",
              "      --hover-fill-color: #FFFFFF;\n",
              "      --disabled-bg-color: #3B4455;\n",
              "      --disabled-fill-color: #666;\n",
              "  }\n",
              "\n",
              "  .colab-df-quickchart {\n",
              "    background-color: var(--bg-color);\n",
              "    border: none;\n",
              "    border-radius: 50%;\n",
              "    cursor: pointer;\n",
              "    display: none;\n",
              "    fill: var(--fill-color);\n",
              "    height: 32px;\n",
              "    padding: 0;\n",
              "    width: 32px;\n",
              "  }\n",
              "\n",
              "  .colab-df-quickchart:hover {\n",
              "    background-color: var(--hover-bg-color);\n",
              "    box-shadow: 0 1px 2px rgba(60, 64, 67, 0.3), 0 1px 3px 1px rgba(60, 64, 67, 0.15);\n",
              "    fill: var(--button-hover-fill-color);\n",
              "  }\n",
              "\n",
              "  .colab-df-quickchart-complete:disabled,\n",
              "  .colab-df-quickchart-complete:disabled:hover {\n",
              "    background-color: var(--disabled-bg-color);\n",
              "    fill: var(--disabled-fill-color);\n",
              "    box-shadow: none;\n",
              "  }\n",
              "\n",
              "  .colab-df-spinner {\n",
              "    border: 2px solid var(--fill-color);\n",
              "    border-color: transparent;\n",
              "    border-bottom-color: var(--fill-color);\n",
              "    animation:\n",
              "      spin 1s steps(1) infinite;\n",
              "  }\n",
              "\n",
              "  @keyframes spin {\n",
              "    0% {\n",
              "      border-color: transparent;\n",
              "      border-bottom-color: var(--fill-color);\n",
              "      border-left-color: var(--fill-color);\n",
              "    }\n",
              "    20% {\n",
              "      border-color: transparent;\n",
              "      border-left-color: var(--fill-color);\n",
              "      border-top-color: var(--fill-color);\n",
              "    }\n",
              "    30% {\n",
              "      border-color: transparent;\n",
              "      border-left-color: var(--fill-color);\n",
              "      border-top-color: var(--fill-color);\n",
              "      border-right-color: var(--fill-color);\n",
              "    }\n",
              "    40% {\n",
              "      border-color: transparent;\n",
              "      border-right-color: var(--fill-color);\n",
              "      border-top-color: var(--fill-color);\n",
              "    }\n",
              "    60% {\n",
              "      border-color: transparent;\n",
              "      border-right-color: var(--fill-color);\n",
              "    }\n",
              "    80% {\n",
              "      border-color: transparent;\n",
              "      border-right-color: var(--fill-color);\n",
              "      border-bottom-color: var(--fill-color);\n",
              "    }\n",
              "    90% {\n",
              "      border-color: transparent;\n",
              "      border-bottom-color: var(--fill-color);\n",
              "    }\n",
              "  }\n",
              "</style>\n",
              "\n",
              "  <script>\n",
              "    async function quickchart(key) {\n",
              "      const quickchartButtonEl =\n",
              "        document.querySelector('#' + key + ' button');\n",
              "      quickchartButtonEl.disabled = true;  // To prevent multiple clicks.\n",
              "      quickchartButtonEl.classList.add('colab-df-spinner');\n",
              "      try {\n",
              "        const charts = await google.colab.kernel.invokeFunction(\n",
              "            'suggestCharts', [key], {});\n",
              "      } catch (error) {\n",
              "        console.error('Error during call to suggestCharts:', error);\n",
              "      }\n",
              "      quickchartButtonEl.classList.remove('colab-df-spinner');\n",
              "      quickchartButtonEl.classList.add('colab-df-quickchart-complete');\n",
              "    }\n",
              "    (() => {\n",
              "      let quickchartButtonEl =\n",
              "        document.querySelector('#df-d2601b09-3f94-43fe-867e-2c41038619ff button');\n",
              "      quickchartButtonEl.style.display =\n",
              "        google.colab.kernel.accessAllowed ? 'block' : 'none';\n",
              "    })();\n",
              "  </script>\n",
              "</div>\n",
              "\n",
              "    </div>\n",
              "  </div>\n"
            ],
            "application/vnd.google.colaboratory.intrinsic+json": {
              "type": "dataframe",
              "summary": "{\n  \"name\": \"rankedPages\",\n  \"rows\": 10,\n  \"fields\": [\n    {\n      \"column\": \"Destination\",\n      \"properties\": {\n        \"dtype\": \"string\",\n        \"num_unique_values\": 10,\n        \"samples\": [\n          \"http://www.calacademy.org/\",\n          \"http://www.ucdavis.edu/\",\n          \"http://www.uci.edu/\"\n        ],\n        \"semantic_type\": \"\",\n        \"description\": \"\"\n      }\n    }\n  ]\n}"
            }
          },
          "metadata": {},
          "execution_count": 14
        }
      ]
    }
  ],
  "metadata": {
    "kernelspec": {
      "display_name": "Python 3",
      "name": "python3"
    },
    "language_info": {
      "name": "python"
    },
    "colab": {
      "provenance": []
    }
  },
  "nbformat": 4,
  "nbformat_minor": 0
}