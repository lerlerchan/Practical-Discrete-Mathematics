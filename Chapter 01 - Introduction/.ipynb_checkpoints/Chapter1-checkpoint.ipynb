{
  "cells": [
    {
      "cell_type": "markdown",
      "metadata": {
        "id": "O60yeDcLW3ab"
      },
      "source": [
        "# Chapter 1 - Introduction: Key Concepts, Notation, Set Theory, Relations, and Functions\n",
        "\n",
        "This notebook contains code accompanying Chapter 1 Introduction: Key Concepts, Notation, Set Theory, Relations, and Functions in *Practical Discrete Mathematics* by Ryan T. White and Archana Tikayat Ray\n",
        "\n",
        "## Functions and Relations\n",
        "\n",
        "### The `sort()` function"
      ]
    },
    {
      "cell_type": "code",
      "execution_count": 2,
      "metadata": {
        "id": "rvooLzQQW3ae",
        "outputId": "f9c954cd-49a3-4b20-bf1f-13bac2fd9740",
        "colab": {
          "base_uri": "https://localhost:8080/"
        }
      },
      "outputs": [
        {
          "output_type": "stream",
          "name": "stdout",
          "text": [
            "[1, 2, 3, 4, 5, 8, 9, 12, 22, 34, 56]\n",
            "['Brandon', 'Chan', 'Elise', 'Eugene', 'Kumar', 'Lee', 'Wyatt']\n"
          ]
        }
      ],
      "source": [
        "numbers = [3, 1, 4, 12, 8, 5, 2, 9, 22, 34, 56]\n",
        "names = ['Wyatt', 'Brandon', 'Kumar', 'Eugene', 'Elise', 'Chan', 'Lee']\n",
        "\n",
        "# Apply the sort() function to the lists\n",
        "numbers.sort()\n",
        "names.sort()\n",
        "\n",
        "# Display the output\n",
        "print(numbers)\n",
        "print(names)"
      ]
    },
    {
      "cell_type": "markdown",
      "metadata": {
        "id": "VMhEDFXdW3ag"
      },
      "source": [
        "### The `shuffle()` function"
      ]
    },
    {
      "cell_type": "code",
      "execution_count": 8,
      "metadata": {
        "id": "wXb2my5kW3ag",
        "outputId": "d2340674-ca12-40cd-dc30-92100d9eba19",
        "colab": {
          "base_uri": "https://localhost:8080/"
        }
      },
      "outputs": [
        {
          "output_type": "stream",
          "name": "stdout",
          "text": [
            "[22, 100, 3, 89, 5, 12, 2, 9, 67, 8, 1, 45, 4]\n",
            "[45, 12, 8, 22, 1, 5, 4, 100, 89, 67, 2, 3, 9]\n",
            "[9, 8, 4, 45, 12, 1, 5, 2, 89, 22, 67, 100, 3]\n",
            "[4, 3, 8, 45, 2, 67, 1, 5, 12, 22, 89, 9, 100]\n",
            "[45, 100, 9, 12, 89, 5, 3, 8, 4, 1, 67, 22, 2]\n"
          ]
        }
      ],
      "source": [
        "import random\n",
        "\n",
        "# Set a random seed so the code is reproducible\n",
        "random.seed(1)\n",
        "\n",
        "# Run the random.shuffle() function 5 times and display the outputs\n",
        "for i in range(0,5):\n",
        "    numbers = [3, 1, 4, 12, 8, 5, 2, 9, 22, 45, 67, 89, 100]\n",
        "    random.shuffle(numbers)\n",
        "    print(numbers)"
      ]
    },
    {
      "cell_type": "markdown",
      "source": [
        "# Q1 Sort the numbers in decending order for the following code\n"
      ],
      "metadata": {
        "id": "inFDBPaHd_Qk"
      }
    },
    {
      "cell_type": "code",
      "source": [
        "numbers = [3, 1, 4, 12, 8, 5, 2, 9, 22, 34, 56]\n",
        "\n",
        "\n",
        "# Apply the sort() function to the lists\n",
        "numbers.sort()\n",
        "\n",
        "# Display the output\n",
        "print(numbers)\n"
      ],
      "metadata": {
        "id": "Dq7Tf0HVeIJa",
        "outputId": "02c27742-a556-4b0f-ada1-6d959eb7f6c3",
        "colab": {
          "base_uri": "https://localhost:8080/"
        }
      },
      "execution_count": 9,
      "outputs": [
        {
          "output_type": "stream",
          "name": "stdout",
          "text": [
            "[1, 2, 3, 4, 5, 8, 9, 12, 22, 34, 56]\n"
          ]
        }
      ]
    },
    {
      "cell_type": "markdown",
      "source": [
        "# Q2 Write a python code that count the number of character in your English Full name\n",
        "\n",
        "\n"
      ],
      "metadata": {
        "id": "KHjB0-pyZrv3"
      }
    },
    {
      "cell_type": "code",
      "source": [],
      "metadata": {
        "id": "0gkl0-15eXza"
      },
      "execution_count": null,
      "outputs": []
    }
  ],
  "metadata": {
    "kernelspec": {
      "display_name": "Python 3",
      "name": "python3"
    },
    "language_info": {
      "name": "python"
    },
    "colab": {
      "provenance": []
    }
  },
  "nbformat": 4,
  "nbformat_minor": 0
}